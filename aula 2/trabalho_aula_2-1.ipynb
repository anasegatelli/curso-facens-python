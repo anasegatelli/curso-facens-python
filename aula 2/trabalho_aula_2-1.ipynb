{
  "cells": [
    {
      "cell_type": "markdown",
      "metadata": {
        "id": "5b927436"
      },
      "source": [
        "## Exercício 1\n",
        "\n",
        "Crie uma função em Python chamada `par_ou_impar_arquivo` que receba um número inteiro como entrada. Esta função deve iterar de 1 até o número fornecido. Para cada número no intervalo, verifique se ele é par ou ímpar usando uma condicional. Em seguida, escreva em um arquivo de texto chamado `resultado_exercicio1.txt` cada número e sua classificação (\"é par\" ou \"é ímpar\") em linhas separadas."
      ]
    },
    {
      "cell_type": "code",
      "execution_count": null,
      "metadata": {
        "id": "56660ac3"
      },
      "outputs": [],
      "source": [
        "# Digite seu código aqui\n",
        "def par_ou_impar_arquivo (n:int):\n",
        "    NOME_ARQUIVO= \"resultado_exercicio1.txt\"\n",
        "    try:\n",
        "        with open(NOME_ARQUIVO, 'w', encoding='utf-8') as f:\n",
        "            for i in range(1, n+1):\n",
        "                if i%2 ==0:\n",
        "                    f.write(f\"O numero: {i} é Par\" + '\\n')\n",
        "                else:\n",
        "                    f.write(f\"O numero: {i} é Impar\" + '\\n')\n",
        "    except IOError as e:\n",
        "        print(f\"ERRO ao salvar classificação: {e}\")\n",
        "\n",
        "par_ou_impar_arquivo(5)"
      ]
    },
    {
      "cell_type": "markdown",
      "metadata": {
        "id": "adc387c4"
      },
      "source": [
        "## Exercício 2\n",
        "\n",
        "Crie uma função Python chamada `somar_numeros_arquivo` que receba dois argumentos: o nome de um arquivo de texto de entrada e o nome de um arquivo de texto de saída. O arquivo de entrada conterá números, um por linha. A função deve ler esses números, calcular a soma deles e escrever o resultado da soma em uma nova linha no arquivo de saída. A função deve tratar possíveis erros, como o arquivo de entrada não ser encontrado ou linhas que não contenham números válidos."
      ]
    },
    {
      "cell_type": "code",
      "execution_count": 7,
      "metadata": {
        "id": "ea76470d"
      },
      "outputs": [
        {
          "name": "stdout",
          "output_type": "stream",
          "text": [
            "Processando 'arquivo_entrada.txt'\n",
            "[Falha na Linha 4]: Conteúdo inválido ('erro_aqui'). Ignorando esta linha.\n",
            "Soma calculada: 68.64\n",
            "A soma pode estar incompleta devido a linhas com dados inválidos.\n",
            "Sucesso: A soma foi escrita no arquivo de saída 'arquivo_saida.txt'.\n"
          ]
        }
      ],
      "source": [
        "# Digite seu código aqui\n",
        "def somar_numeros_arquivo (arquivo_entrada, arquivo_saida):\n",
        "\n",
        "    #variaveis\n",
        "    soma_total = 0  \n",
        "    erros_encontrados = False\n",
        "    conteudo_entrada = \"\"\"\n",
        "    10.5\n",
        "    20\n",
        "    -5\n",
        "    erro_aqui\n",
        "    3.14\n",
        "        \n",
        "    40\n",
        "    \"\"\"\n",
        "\n",
        "    print(f\"Processando '{arquivo_entrada}'\") \n",
        "\n",
        "    try:\n",
        "        with open(arquivo_entrada, 'w') as f:\n",
        "            f.write(conteudo_entrada.strip()) \n",
        "\n",
        "    except IOError as e:\n",
        "        print(f\"Falha ao criar arquivo:{arquivo_entrada} {e}\")\n",
        "\n",
        "    try:\n",
        "        with open(arquivo_entrada, 'r') as f:\n",
        "            for i, linha in enumerate(f, 1):\n",
        "                linha = linha.strip()  # Remove espaços em branco e quebras de linha\n",
        "\n",
        "                if not linha:  # Ignora linhas em branco\n",
        "                    continue\n",
        "                \n",
        "                try:\n",
        "                    # Tenta converter a linha para float para suportar números decimais\n",
        "                    numero = float(linha)\n",
        "                    soma_total += numero\n",
        "                except ValueError:\n",
        "                    print(f\"[Falha na Linha {i}]: Conteúdo inválido ('{linha}'). Ignorando esta linha.\")\n",
        "                    erros_encontrados = True\n",
        "\n",
        "    except FileNotFoundError:\n",
        "        print(f\"Falha no arquivo de entrada '{arquivo_entrada}' não foi encontrado.\")\n",
        "        return  \n",
        "    except Exception as e:\n",
        "        print(f\"[Falha ao ler o arquivo]: {e}\")\n",
        "        return\n",
        "\n",
        "    print(f\"Soma calculada: {soma_total}\")\n",
        "    if erros_encontrados:\n",
        "        print(\"A soma pode estar incompleta devido a linhas com dados inválidos.\")\n",
        "\n",
        "    try:\n",
        "        \n",
        "        with open(arquivo_saida, 'a') as f:\n",
        "            f.write(f\"\\nSoma: {soma_total}\")\n",
        "\n",
        "        print(f\"Sucesso: A soma foi escrita no arquivo de saída '{arquivo_saida}'.\")\n",
        "\n",
        "    except Exception as e:\n",
        "        print(f\"[Falha ao escrever no arquivo de saída]: {e}\")\n",
        "\n",
        "\n",
        "somar_numeros_arquivo ('arquivo_entrada.txt', 'arquivo_saida.txt')"
      ]
    },
    {
      "cell_type": "markdown",
      "metadata": {
        "id": "e43495b9"
      },
      "source": [
        "## Exercício 3\n",
        "\n",
        "Crie uma função Python chamada `classificar_numeros_em_arquivo` que receba como argumentos o nome de um arquivo de texto de entrada e o nome de um arquivo de texto de saída. O arquivo de entrada conterá números, um por linha. A função deve ler esses números, classificar cada um como \"Positivo\", \"Negativo\" ou \"Zero\" e escrever o número original e sua classificação em linhas separadas no arquivo de saída exemplo -10: Negativo. A função deve tratar possíveis erros, como o arquivo de entrada não ser encontrado ou linhas que não contenham números válidos."
      ]
    },
    {
      "cell_type": "code",
      "execution_count": null,
      "metadata": {
        "colab": {
          "base_uri": "https://localhost:8080/"
        },
        "id": "7ae289b8",
        "outputId": "12c6a514-48b3-4d6d-a60e-b8fd86e5f124"
      },
      "outputs": [
        {
          "name": "stdout",
          "output_type": "stream",
          "text": [
            "Processando 'numeros.txt'\n",
            "[ERRO na Linha 4]: Conteúdo inválido ('TextoInvalido'). Ignorando.\n",
            "\n",
            "Sucesso: 5 números classificados e escritos no arquivo 'classificacao.txt'.\n",
            "Algumas linhas foram ignoradas devido a dados inválidos no arquivo de entrada.\n"
          ]
        }
      ],
      "source": [
        "# Digite seu código aqui\n",
        "import os\n",
        "\n",
        "def classificar_numeros_em_arquivo(arquivo_entrada, arquivo_saida):\n",
        "   \n",
        "    resultados = []\n",
        "    erros_encontrados = False\n",
        "    conteudo_entrada = \"\"\"\n",
        "        15\n",
        "        -3.5\n",
        "        0\n",
        "        TextoInvalido\n",
        "        22.75\n",
        "        -0.001\n",
        "        \"\"\"\n",
        "\n",
        "    print(f\"Processando '{arquivo_entrada}'\")\n",
        "\n",
        "    try:                \n",
        "        with open(arquivo_entrada, 'w') as f:\n",
        "            f.write(conteudo_entrada.strip())\n",
        "    except IOError as e:\n",
        "        print(f\"Falha ao criar arquivo:{arquivo_entrada} {e}\")\n",
        "\n",
        "    try:\n",
        "        with open(arquivo_entrada, 'r') as f:\n",
        "            for i, linha in enumerate(f, 1):\n",
        "                linha = linha.strip() \n",
        "\n",
        "                if not linha:  # Ignora linhas em branco\n",
        "                    continue\n",
        "\n",
        "                # 2. Tratamento de Números Inválidos (ValueError)\n",
        "                try:\n",
        "                    # Converte para float para suportar números decimais e inteiros\n",
        "                    numero = float(linha)\n",
        "\n",
        "                    # Classificação\n",
        "                    if numero > 0:\n",
        "                        classificacao = \"Positivo\"\n",
        "                    elif numero < 0:\n",
        "                        classificacao = \"Negativo\"\n",
        "                    else:\n",
        "                        classificacao = \"Zero\"\n",
        "                    \n",
        "                    resultados.append(f\"{linha}: {classificacao}\")\n",
        "\n",
        "                except ValueError:\n",
        "                    print(f\"[ERRO na Linha {i}]: Conteúdo inválido ('{linha}'). Ignorando.\")\n",
        "                    erros_encontrados = True\n",
        "\n",
        "    except FileNotFoundError:\n",
        "        print(f\"Falha: O arquivo de entrada '{arquivo_entrada}' não foi encontrado.\")\n",
        "        return  # Encerra a função se o arquivo de entrada não existir\n",
        "    except Exception as e:\n",
        "        print(f\"Falha ao ler o arquivo: {e}\")\n",
        "        return\n",
        "\n",
        "    # 3. Escrita no Arquivo de Saída\n",
        "    try:\n",
        "        \n",
        "        with open(arquivo_saida, 'w') as f:\n",
        "            f.write(\"\\n\".join(resultados))\n",
        "\n",
        "        print(f\"\\nSucesso: {len(resultados)} números classificados e escritos no arquivo '{arquivo_saida}'.\")\n",
        "        if erros_encontrados:\n",
        "            print(\"Algumas linhas foram ignoradas devido a dados inválidos no arquivo de entrada.\")\n",
        "\n",
        "    except Exception as e:\n",
        "        print(f\"Falha ao escrever no arquivo de saída: {e}\")\n",
        "\n",
        "classificar_numeros_em_arquivo('numeros.txt', 'classificacao.txt')\n",
        "\n"
      ]
    },
    {
      "cell_type": "markdown",
      "metadata": {
        "id": "5db35a70"
      },
      "source": [
        "## Exercício 4\n",
        "\n",
        "Crie uma função Python chamada `processar_dados_alunos` que receba como argumento o nome de um arquivo de texto. Este arquivo conterá dados de alunos no formato \"Nome,Nota1,Nota2,Nota3\", uma linha por aluno. Dentro da função, abra o arquivo para leitura. Para cada linha do arquivo, leia o nome do aluno e suas três notas. Calcule a média das três notas para cada aluno. Determine se o aluno foi aprovado (média >= 7.0) ou reprovado. Crie um novo arquivo de texto chamado \"resultados_alunos.txt\". Escreva no novo arquivo, para cada aluno, o nome e sua situação (Aprovado ou Reprovado) no formato \"Nome: Situação\". A função deve tratar possíveis erros de arquivo não encontrado e linhas com formato inválido ou notas não numéricas."
      ]
    },
    {
      "cell_type": "code",
      "execution_count": null,
      "metadata": {
        "id": "fe7e75dd"
      },
      "outputs": [],
      "source": [
        "# Digite seu código aqui"
      ]
    },
    {
      "cell_type": "markdown",
      "metadata": {
        "id": "be95af3c"
      },
      "source": [
        "## Exercício 5\n",
        "\n",
        "Crie uma função Python chamada `processar_vendas_manual` que receba como argumentos o nome de um arquivo CSV de entrada e o nome de um arquivo CSV de saída. O arquivo de entrada conterá dados de vendas com as colunas \"Produto\", \"Quantidade\" e \"Preco_Unitario\".\n",
        "\n",
        "Dentro da função, abra o arquivo CSV de entrada para leitura. Leia cada linha do arquivo, **manualmente (sem usar bibliotecas como `csv`)** dividindo a linha pelas vírgulas. Para cada item de venda, calcule o \"Valor_Total\" multiplicando a \"Quantidade\" pelo \"Preco_Unitario\". Certifique-se de converter \"Quantidade\" para inteiro e \"Preco_Unitario\" para float.\n",
        "\n",
        "Crie um novo arquivo CSV de saída. Para cada linha do arquivo de entrada , escreva no arquivo de saída as informações originais (\"Produto\", \"Quantidade\", \"Preco_unitario\") e o \"Valor_Total\" calculado, separando os valores por vírgulas.\n",
        "\n",
        "A função deve tratar possíveis erros, como arquivo de entrada não encontrado, linhas com formato inválido ou valores não numéricos para Quantidade e Preco_Unitario."
      ]
    },
    {
      "cell_type": "code",
      "execution_count": null,
      "metadata": {
        "id": "ef951baa"
      },
      "outputs": [],
      "source": [
        "# Digite seu código aqui"
      ]
    }
  ],
  "metadata": {
    "colab": {
      "provenance": []
    },
    "kernelspec": {
      "display_name": "Python 3",
      "name": "python3"
    },
    "language_info": {
      "codemirror_mode": {
        "name": "ipython",
        "version": 3
      },
      "file_extension": ".py",
      "mimetype": "text/x-python",
      "name": "python",
      "nbconvert_exporter": "python",
      "pygments_lexer": "ipython3",
      "version": "3.12.1"
    }
  },
  "nbformat": 4,
  "nbformat_minor": 0
}
