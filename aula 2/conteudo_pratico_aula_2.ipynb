{
  "cells": [
    {
      "cell_type": "markdown",
      "metadata": {
        "id": "139fe55a"
      },
      "source": [
        "### Exercício 1: Função Simples - Soma de Dois Números\n",
        "\n",
        "**Objetivo:** Criar uma função que some dois números.\n",
        "\n",
        "**Descrição:** Escreva uma função chamada `somar` que receba dois números como argumentos e retorne a soma deles.\n",
        "\n"
      ]
    },
    {
      "cell_type": "code",
      "execution_count": 29,
      "metadata": {
        "id": "b5adcf80"
      },
      "outputs": [
        {
          "name": "stdout",
          "output_type": "stream",
          "text": [
            "47\n"
          ]
        }
      ],
      "source": [
        "# Digite seu código aqui\n",
        "def somar(a, b, *args):\n",
        "    somaTupla=0\n",
        "    for arg in args:\n",
        "        somaTupla = somaTupla + arg\n",
        "    return a+b + somaTupla\n",
        "\n",
        "print(somar(2,5,10,30))\n",
        "\n",
        "\n"
      ]
    },
    {
      "cell_type": "markdown",
      "metadata": {
        "id": "12f0f16d"
      },
      "source": [
        "### Exercício 2: Função com Condicional - Verificar Par ou Ímpar\n",
        "\n",
        "**Objetivo:** Criar uma função que verifique se um número é par ou ímpar.\n",
        "\n",
        "**Descrição:** Escreva uma função chamada `verificar_par_impar` que receba um número inteiro como argumento e retorne a string \"Par\" se o número for par, e \"Ímpar\" se for ímpar.\n",
        "\n",
        "**Exemplo de uso:**"
      ]
    },
    {
      "cell_type": "code",
      "execution_count": null,
      "metadata": {
        "id": "1f42ae12"
      },
      "outputs": [
        {
          "data": {
            "text/plain": [
              "'Impar'"
            ]
          },
          "execution_count": 33,
          "metadata": {},
          "output_type": "execute_result"
        }
      ],
      "source": [
        "# Digite seu código aqui\n",
        "\n",
        "def verificar_par_impar(n:int):\n",
        "    if n%2==0:\n",
        "        return \"par\"\n",
        "    else: \n",
        "        return \"impar\"\n",
        "    \n",
        "verificar_par_impar(0)\n",
        "\n",
        "\n",
        "def verificar_par_impar_2(n:int):\n",
        "    return \"Par\" if n % 2 == 0 else \"Impar\"\n",
        "    \n",
        "\n",
        "\n",
        "def verificar_par_impar_2(n):\n",
        "\n",
        "    numeropar = []\n",
        "    numeroimpar = []\n",
        "\n",
        "    for numero in n:\n",
        "       if n%2==0:\n",
        "          numeropar.append(numero)\n",
        "       else: \n",
        "          numeroimpar.append(numero)\n",
        "    \n",
        "\n",
        "verificar_par_impar_2(3)"
      ]
    },
    {
      "cell_type": "markdown",
      "metadata": {
        "id": "80cca4d7"
      },
      "source": [
        "### Exercício 3: Leitura de Arquivo - Exibir Conteúdo\n",
        "\n",
        "**Objetivo:** Ler um arquivo de texto e exibir seu conteúdo na tela.\n",
        "\n",
        "**Descrição:** Crie um arquivo de texto simples (por exemplo, `conteudo.txt`). Escreva um código que leia este arquivo linha por linha e imprima cada linha no console.\n",
        "\n",
        "**Conteúdo de exemplo para `conteudo.txt`:**"
      ]
    },
    {
      "cell_type": "code",
      "execution_count": 42,
      "metadata": {
        "id": "663bdc41"
      },
      "outputs": [
        {
          "name": "stdout",
          "output_type": "stream",
          "text": [
            "facensfacens - olafacens - ola - de novo\n"
          ]
        }
      ],
      "source": [
        "# Digite seu código aqui\n",
        "\n",
        "#try:\n",
        "# Usando open() para abrir o arquivo\n",
        "with open('conteudo.txt', 'w', encoding='utf-8') as arquivo:\n",
        "    arquivo.write ('facens')\n",
        "    arquivo.write ('facens - ola')\n",
        "    arquivo.write ('facens - ola - de novo')\n",
        "\n",
        "with open('conteudo.txt', 'r', encoding='utf-8') as arquivo: \n",
        "    for line in arquivo:\n",
        "       print(line)\n",
        "\n",
        "\n",
        "    # arquivo_leitura_linha = open('conteudo.txt', 'r', encoding='utf-8')\n",
        "    # for numero_linha, linha in enumerate(arquivo_leitura_linha, 1):\n",
        "    #     print(f\"Linha {numero_linha}: {linha.strip()}\") # Use strip() para remover a quebra de linha extra\n",
        "\n",
        "    # # 6. Close the file explicitly using the `.close()` method.\n",
        "    # arquivo_leitura_linha.close()    \n",
        "#except IOError as e:\n",
        "#    print(f\"Erro ao ler arquivo{e}\")   "
      ]
    },
    {
      "cell_type": "markdown",
      "metadata": {
        "id": "2eb3efeb"
      },
      "source": [
        "### Exercício 4: Escrita em Arquivo - Diário Simples\n",
        "\n",
        "**Objetivo:** Permitir que o usuário escreva entradas em um arquivo de diário.\n",
        "\n",
        "**Descrição:** Escreva um código que peça ao usuário para digitar uma entrada de diário. A entrada deve ser salva em um arquivo chamado `diario.txt`, adicionando a nova entrada ao final do arquivo a cada vez que o código for executado. Adicione uma quebra de linha após cada entrada.\n",
        "\n",
        "**Formato do arquivo `diario.txt` após algumas entradas:**"
      ]
    },
    {
      "cell_type": "code",
      "execution_count": 25,
      "metadata": {},
      "outputs": [
        {
          "name": "stdout",
          "output_type": "stream",
          "text": [
            "\n",
            "Entrada salva com sucesso no 'diario.txt'!\n"
          ]
        }
      ],
      "source": [
        "\n",
        "def adicionar_entrada_diario():\n",
        "    \"\"\"\n",
        "    Pede ao usuário uma entrada e a salva no arquivo 'diario.txt' \n",
        "    com a data/hora e uma quebra de linha.\n",
        "    \"\"\"\n",
        "    # 1. Obter a entrada do usuário\n",
        "    entrada = input(\"Digite sua entrada de diário (ou pressione Enter para sair): \\n> \")\n",
        "\n",
        "    if not entrada:\n",
        "        print(\"Nenhuma entrada digitada. Encerrando.\")\n",
        "        return\n",
        "\n",
        "    entrada_formatada = f\"{entrada}\\n\"\n",
        "    \n",
        "    try:\n",
        "        with open('diario.txt', 'a', encoding='utf-8') as arquivo:\n",
        "            arquivo.write(entrada_formatada)\n",
        "        \n",
        "        print(\"\\nEntrada salva com sucesso no 'diario.txt'!\")\n",
        "\n",
        "    except IOError as e:\n",
        "        print(f\"\\nERRO: Não foi possível escrever no arquivo 'diario.txt'. Detalhes: {e}\")\n",
        "\n",
        "\n",
        "adicionar_entrada_diario()\n"
      ]
    },
    {
      "cell_type": "markdown",
      "metadata": {
        "id": "95de3554"
      },
      "source": [
        "### Exercício 5: Combinando Funções e Arquivos - Contador de Linhas de Arquivo\n",
        "\n",
        "**Objetivo:** Criar uma função que conte o número de linhas em um arquivo.\n",
        "\n",
        "**Descrição:** Escreva uma função chamada `contar_linhas` que receba o nome de um arquivo como argumento e retorne o número total de linhas neste arquivo. Use esta função para contar as linhas de um arquivo de exemplo.\n",
        "\n",
        "**Arquivo de exemplo para contar:**"
      ]
    },
    {
      "cell_type": "code",
      "execution_count": 43,
      "metadata": {},
      "outputs": [
        {
          "data": {
            "text/plain": [
              "21"
            ]
          },
          "execution_count": 43,
          "metadata": {},
          "output_type": "execute_result"
        }
      ],
      "source": [
        "def contar_linhas(nome_arquivo):\n",
        "    \"\"\"\n",
        "    Conta o número total de linhas em um arquivo.\n",
        "\n",
        "    Args:\n",
        "        nome_arquivo (str): O nome do arquivo a ser lido.\n",
        "\n",
        "    Returns:\n",
        "        int: O número de linhas no arquivo. Retorna 0 em caso de erro.\n",
        "    \"\"\"\n",
        "    try:\n",
        "        with open(nome_arquivo, 'r', encoding='utf-8') as arquivo:\n",
        "            numero_linhas = sum(1 for linha in arquivo)\n",
        "            return numero_linhas\n",
        "\n",
        "       # arquivo_leitura_linha = open(nome_arquivo, 'r', encoding='utf-8')\n",
        "\n",
        "       ## for numero_linha, linha in enumerate(arquivo_leitura_linha, 1):\n",
        "        #    print(f\"Linha {numero_linha}: {linha.strip()}\") \n",
        "\n",
        "        # 6. Close the file explicitly using the `.close()` method.\n",
        "        #arquivo_leitura_linha.close()            \n",
        "\n",
        "    except FileNotFoundError:\n",
        "        print(f\"ERRO: O arquivo '{nome_arquivo}' não foi encontrado.\")\n",
        "        return 0\n",
        "   \n",
        "contar_linhas(\"diario.txt\")"
      ]
    },
    {
      "cell_type": "markdown",
      "metadata": {},
      "source": [
        "criar arquivo txt \n",
        "com diversas atividades e status delas\n",
        "\n",
        "linha atividade\n",
        "linha status\n",
        "\n",
        "menur com \n",
        "incluir atividades\n",
        "finalizar atividades\n",
        "remover atividades\n",
        "\n",
        "\n",
        "\n",
        "Criar um arquivo TXT contendo atividades e status das atividades, uma linha por atividade e logo abaixo da linha o status da atividade.\n",
        " \n",
        "Deve ter um menu e implementar as opções de incluir atividade, remover atividade e concluir atividade\n",
        "e todas as operacoes devem ser gravadas no arquivo"
      ]
    },
    {
      "cell_type": "code",
      "execution_count": 36,
      "metadata": {},
      "outputs": [
        {
          "name": "stdout",
          "output_type": "stream",
          "text": [
            "\n",
            "--- SUAS ATIVIDADES ---\n",
            "| 1 | criar menu | Iniciado\n",
            "| 2 | criar funcao | Não iniciado\n",
            "| 3 | testar codigo | Não iniciado\n",
            "-------------------------\n",
            "\n",
            "=============================\n",
            "   GERENCIADOR DE ATIVIDADES\n",
            "=============================\n",
            "[1] Incluir Nova Atividade\n",
            "[2] Finalizar Atividade\n",
            "[3] Remover Atividade\n",
            "[4] Sair\n",
            "-----------------------------\n",
            "\n",
            "--- SUAS ATIVIDADES ---\n",
            "| 1 | criar menu | Iniciado\n",
            "| 2 | criar funcao | Não iniciado\n",
            "| 3 | testar codigo | Não iniciado\n",
            "-------------------------\n",
            "\n",
            "\n",
            ">> Atividade 'criar funcao Não iniciado' REMOVIDA com sucesso!\n",
            "\n",
            "--- SUAS ATIVIDADES ---\n",
            "| 1 | criar menu | Iniciado\n",
            "| 2 | testar codigo | Não iniciado\n",
            "-------------------------\n",
            "\n",
            "=============================\n",
            "   GERENCIADOR DE ATIVIDADES\n",
            "=============================\n",
            "[1] Incluir Nova Atividade\n",
            "[2] Finalizar Atividade\n",
            "[3] Remover Atividade\n",
            "[4] Sair\n",
            "-----------------------------\n",
            "\n",
            " Informações salvas.\n"
          ]
        }
      ],
      "source": [
        "import os\n",
        "\n",
        "NOME_ARQUIVO = 'atividades2.txt'\n",
        "\n",
        "def inicializar_arquivo():\n",
        "    \"\"\"Garante que o arquivo exista ao iniciar o programa.\"\"\"\n",
        "    if not os.path.exists(NOME_ARQUIVO): # para nao recriar o arquivo e perder os dados ja gravados\n",
        "        try:\n",
        "            with open(NOME_ARQUIVO, 'w', encoding='utf-8') as f:\n",
        "                # O arquivo é criado, mas fica vazio, pronto para receber dados.\n",
        "                pass\n",
        "            print(f\"Arquivo '{NOME_ARQUIVO}' criado.\")\n",
        "        except IOError as e:\n",
        "            print(f\"Erro ao criar o arquivo: {e}\")\n",
        "\n",
        "def ler_atividades():\n",
        "    \"\"\"Lê todas as atividades e seus status do arquivo, retornando-as como uma lista de tuplas.\"\"\"\n",
        "    atividades = []\n",
        "    try:\n",
        "        with open(NOME_ARQUIVO, 'r', encoding='utf-8') as f:\n",
        "            linhas = f.readlines()\n",
        "            # O arquivo tem pares de linhas: Atividade (índice par) e Status (índice ímpar)\n",
        "            for i in range(0, len(linhas), 2):\n",
        "                atividade = linhas[i].strip()\n",
        "                status = linhas[i+1].strip() if i + 1 < len(linhas) else \"ERRO\" # Garante que há status\n",
        "                atividades.append((atividade, status))\n",
        "    except FileNotFoundError:\n",
        "        print(f\"ERRO: Arquivo '{NOME_ARQUIVO}' não encontrado.\")\n",
        "    except Exception as e:\n",
        "        print(f\"Erro ao ler atividades: {e}\")\n",
        "        \n",
        "    return atividades\n",
        "\n",
        "def salvar_atividades(atividades):\n",
        "    \"\"\"Sobrescreve o arquivo com a lista de atividades e status atualizada.\"\"\"\n",
        "    try:\n",
        "        # Usa 'w' (write) para sobrescrever o arquivo\n",
        "        with open(NOME_ARQUIVO, 'w', encoding='utf-8') as f:\n",
        "            for atividade, status in atividades:\n",
        "                f.write(atividade + '\\n')\n",
        "                f.write(status + '\\n')\n",
        "    except IOError as e:\n",
        "        print(f\"ERRO ao salvar atividades: {e}\")\n",
        "\n",
        "def exibir_atividades(atividades):\n",
        "    \"\"\"Exibe a lista de atividades formatada para o usuário.\"\"\"\n",
        "    if not atividades:\n",
        "        print(\"\\n--- Nenhuma atividade cadastrada. ---\")\n",
        "        return\n",
        "\n",
        "    print(\"\\n--- SUAS ATIVIDADES ---\")\n",
        "    for i, (atividade, status) in enumerate(atividades):\n",
        "        # Exibe o número da atividade (i+1) para ser usado nas opções de menu\n",
        "        print(f\"| {i + 1} | {atividade} | {status}\")\n",
        "    print(\"-------------------------\\n\")\n",
        "\n",
        "# --- Opções do Menu ---\n",
        "\n",
        "def incluir_atividade():\n",
        "    \"\"\"Adiciona uma nova atividade com status Não iniciado.\"\"\"\n",
        "    nome = input(\"Digite a descrição da nova atividade: \").strip()\n",
        "    if not nome:\n",
        "        print(\"Atividade não pode ser vazia.\")\n",
        "        return\n",
        "\n",
        "    atividades = ler_atividades()\n",
        "    atividades.append((nome, \"Não iniciado\"))\n",
        "    salvar_atividades(atividades)\n",
        "    print(f\"\\n>> Atividade '{nome}' incluída com sucesso!\")\n",
        "\n",
        "def finalizar_atividade():\n",
        "    \"\"\"Altera o status de uma atividade para Iniciado.\"\"\"\n",
        "    atividades = ler_atividades()\n",
        "    if not atividades:\n",
        "        print(\"\\nNenhuma atividade para finalizar.\")\n",
        "        return\n",
        "        \n",
        "    exibir_atividades(atividades)\n",
        "    \n",
        "    try:\n",
        "        escolha = int(input(\"Digite o NÚMERO da atividade para FINALIZAR: \")) - 1\n",
        "        \n",
        "        if 0 <= escolha < len(atividades):\n",
        "            atividade_antiga, status_antigo = atividades[escolha]\n",
        "            \n",
        "            if status_antigo == \"Iniciado\":\n",
        "                print(f\"A atividade '{atividade_antiga}' já está concluída.\")\n",
        "                return\n",
        "\n",
        "            # Atualiza a atividade com o novo status\n",
        "            atividades[escolha] = (atividade_antiga, \"Iniciado\")\n",
        "            salvar_atividades(atividades)\n",
        "            print(f\"\\n>> Atividade '{atividade_antiga}' FINALIZADA com sucesso!\")\n",
        "        else:\n",
        "            print(\"Número de atividade inválido.\")\n",
        "            \n",
        "    except ValueError:\n",
        "        print(\"Entrada inválida. Digite um número.\")\n",
        "\n",
        "def remover_atividade():\n",
        "    \"\"\"Remove uma atividade da lista e do arquivo.\"\"\"\n",
        "    atividades = ler_atividades()\n",
        "    if not atividades:\n",
        "        print(\"\\nNenhuma atividade para remover.\")\n",
        "        return\n",
        "        \n",
        "    exibir_atividades(atividades)\n",
        "    \n",
        "    try:\n",
        "        escolha = int(input(\"Digite o NÚMERO da atividade para REMOVER: \")) - 1\n",
        "        \n",
        "        if 0 <= escolha < len(atividades):\n",
        "            atividade_removida, status = atividades.pop(escolha) # Remove com pop e pega a atividade removida\n",
        "            salvar_atividades(atividades)\n",
        "            print(f\"\\n>> Atividade '{atividade_removida} {status}' REMOVIDA com sucesso!\")\n",
        "        else:\n",
        "            print(\"Número de atividade inválido.\")\n",
        "            \n",
        "    except ValueError:\n",
        "        print(\"Entrada inválida. Digite um número.\")\n",
        "\n",
        "# --- Menu Principal ---\n",
        "\n",
        "def menu_principal():\n",
        "    \"\"\"Exibe o menu e controla o fluxo do programa.\"\"\"\n",
        "    inicializar_arquivo() # Garante que o arquivo exista\n",
        "\n",
        "    while True:\n",
        "        atividades = ler_atividades()\n",
        "        exibir_atividades(atividades)\n",
        "        \n",
        "        print(\"=============================\")\n",
        "        print(\"   GERENCIADOR DE ATIVIDADES\")\n",
        "        print(\"=============================\")\n",
        "        print(\"[1] Incluir Nova Atividade\")\n",
        "        print(\"[2] Finalizar Atividade\")\n",
        "        print(\"[3] Remover Atividade\")\n",
        "        print(\"[4] Sair\")\n",
        "        print(\"-----------------------------\")\n",
        "        \n",
        "        escolha = input(\"Selecione uma opção: \").strip() # strip - limpa espaços em branco da string do input \n",
        "\n",
        "        if escolha == '1':\n",
        "            incluir_atividade()\n",
        "        elif escolha == '2':\n",
        "            finalizar_atividade()\n",
        "        elif escolha == '3':\n",
        "            remover_atividade()\n",
        "        elif escolha == '4':\n",
        "            print(\"\\n Informações salvas.\")\n",
        "            break # para finalizar o processo\n",
        "        else:\n",
        "            print(\"\\nOpção inválida. Tente novamente.\")\n",
        "\n",
        "# Inicia o programa\n",
        "if __name__ == \"__main__\":\n",
        "    menu_principal()\n",
        "\n"
      ]
    }
  ],
  "metadata": {
    "colab": {
      "provenance": []
    },
    "kernelspec": {
      "display_name": "Python 3",
      "name": "python3"
    },
    "language_info": {
      "codemirror_mode": {
        "name": "ipython",
        "version": 3
      },
      "file_extension": ".py",
      "mimetype": "text/x-python",
      "name": "python",
      "nbconvert_exporter": "python",
      "pygments_lexer": "ipython3",
      "version": "3.12.1"
    }
  },
  "nbformat": 4,
  "nbformat_minor": 0
}
